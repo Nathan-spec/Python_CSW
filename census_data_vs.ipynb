{
 "cells": [
  {
   "cell_type": "code",
   "execution_count": 1,
   "metadata": {},
   "outputs": [],
   "source": [
    "import pandas as pd"
   ]
  },
  {
   "cell_type": "markdown",
   "metadata": {},
   "source": []
  },
  {
   "cell_type": "code",
   "execution_count": 5,
   "metadata": {},
   "outputs": [],
   "source": [
    "data = pd.read_csv(\"cleaned_census_knbs_cl.csv.csv\")"
   ]
  },
  {
   "cell_type": "code",
   "execution_count": 6,
   "metadata": {},
   "outputs": [
    {
     "data": {
      "text/plain": [
       "<bound method NDFrame.head of          Unnamed: 0     Male   Female    Total  Households  Area in Sq. Km.   \n",
       "0           NAIROBI  1605230  1533139  3138369      985016           695.10  \\\n",
       "1      NAIROBI WEST   352227   332538   684765      212295           261.78   \n",
       "2         DAGORETTI   166391   163186   329577      103818            38.62   \n",
       "3        KAWANGWARE    59430    53856   113286       38249             3.89   \n",
       "4            GATINA    24747    21125    45872       15987             1.51   \n",
       "...             ...      ...      ...      ...         ...              ...   \n",
       "10676         ALUPE     2922     3122     6044        1163            13.07   \n",
       "10677      AMONGURA     5512     5814    11326        2128            25.38   \n",
       "10678      ALOMODOI     1402     1499     2901         565             6.53   \n",
       "10679       OBUCHUN     1963     2015     3978         716             9.15   \n",
       "10680     ONGARIAMA     2147     2300     4447         847             9.70   \n",
       "\n",
       "        Density Unnamed: 7 Unnamed: 8  Unnamed: 9  \n",
       "0       4514.96        NaN        NaN         NaN  \n",
       "1       2615.81        NaN        NaN         NaN  \n",
       "2       8533.89        NaN        NaN         NaN  \n",
       "3      29091.70        NaN        NaN         NaN  \n",
       "4      30411.03        NaN        NaN         NaN  \n",
       "...         ...        ...        ...         ...  \n",
       "10676    462.59        NaN        NaN         NaN  \n",
       "10677    446.26        NaN        NaN         NaN  \n",
       "10678    444.48        NaN        NaN         NaN  \n",
       "10679    434.83        NaN        NaN         NaN  \n",
       "10680    458.24        NaN        NaN         NaN  \n",
       "\n",
       "[10681 rows x 10 columns]>"
      ]
     },
     "execution_count": 6,
     "metadata": {},
     "output_type": "execute_result"
    }
   ],
   "source": [
    "data.head"
   ]
  },
  {
   "cell_type": "code",
   "execution_count": 7,
   "metadata": {},
   "outputs": [
    {
     "data": {
      "text/html": [
       "<div>\n",
       "<style scoped>\n",
       "    .dataframe tbody tr th:only-of-type {\n",
       "        vertical-align: middle;\n",
       "    }\n",
       "\n",
       "    .dataframe tbody tr th {\n",
       "        vertical-align: top;\n",
       "    }\n",
       "\n",
       "    .dataframe thead th {\n",
       "        text-align: right;\n",
       "    }\n",
       "</style>\n",
       "<table border=\"1\" class=\"dataframe\">\n",
       "  <thead>\n",
       "    <tr style=\"text-align: right;\">\n",
       "      <th></th>\n",
       "      <th>Unnamed: 0</th>\n",
       "      <th>Male</th>\n",
       "      <th>Female</th>\n",
       "      <th>Total</th>\n",
       "      <th>Households</th>\n",
       "      <th>Area in Sq. Km.</th>\n",
       "      <th>Density</th>\n",
       "      <th>Unnamed: 7</th>\n",
       "      <th>Unnamed: 8</th>\n",
       "      <th>Unnamed: 9</th>\n",
       "    </tr>\n",
       "  </thead>\n",
       "  <tbody>\n",
       "  </tbody>\n",
       "</table>\n",
       "</div>"
      ],
      "text/plain": [
       "Empty DataFrame\n",
       "Columns: [Unnamed: 0, Male, Female, Total, Households, Area in Sq. Km., Density, Unnamed: 7, Unnamed: 8, Unnamed: 9]\n",
       "Index: []"
      ]
     },
     "execution_count": 7,
     "metadata": {},
     "output_type": "execute_result"
    }
   ],
   "source": [
    "data.dropna()"
   ]
  },
  {
   "cell_type": "code",
   "execution_count": 8,
   "metadata": {},
   "outputs": [
    {
     "data": {
      "text/plain": [
       "Unnamed: 0             0\n",
       "Male                   0\n",
       "Female                 0\n",
       "Total                  0\n",
       "Households             0\n",
       "Area in Sq. Km.        0\n",
       "Density                0\n",
       "Unnamed: 7         10678\n",
       "Unnamed: 8         10679\n",
       "Unnamed: 9         10679\n",
       "dtype: int64"
      ]
     },
     "execution_count": 8,
     "metadata": {},
     "output_type": "execute_result"
    }
   ],
   "source": [
    "data.isnull().sum()"
   ]
  },
  {
   "cell_type": "code",
   "execution_count": 11,
   "metadata": {},
   "outputs": [
    {
     "data": {
      "text/html": [
       "<div>\n",
       "<style scoped>\n",
       "    .dataframe tbody tr th:only-of-type {\n",
       "        vertical-align: middle;\n",
       "    }\n",
       "\n",
       "    .dataframe tbody tr th {\n",
       "        vertical-align: top;\n",
       "    }\n",
       "\n",
       "    .dataframe thead th {\n",
       "        text-align: right;\n",
       "    }\n",
       "</style>\n",
       "<table border=\"1\" class=\"dataframe\">\n",
       "  <thead>\n",
       "    <tr style=\"text-align: right;\">\n",
       "      <th></th>\n",
       "      <th>Unnamed: 0</th>\n",
       "      <th>Male</th>\n",
       "      <th>Female</th>\n",
       "      <th>Total</th>\n",
       "      <th>Households</th>\n",
       "      <th>Area in Sq. Km.</th>\n",
       "      <th>Density</th>\n",
       "      <th>Unnamed: 7</th>\n",
       "      <th>Unnamed: 8</th>\n",
       "      <th>Unnamed: 9</th>\n",
       "    </tr>\n",
       "  </thead>\n",
       "  <tbody>\n",
       "    <tr>\n",
       "      <th>0</th>\n",
       "      <td>NAIROBI</td>\n",
       "      <td>1605230</td>\n",
       "      <td>1533139</td>\n",
       "      <td>3138369</td>\n",
       "      <td>985016</td>\n",
       "      <td>695.10</td>\n",
       "      <td>4514.96</td>\n",
       "      <td>NaN</td>\n",
       "      <td>NaN</td>\n",
       "      <td>NaN</td>\n",
       "    </tr>\n",
       "    <tr>\n",
       "      <th>1</th>\n",
       "      <td>NAIROBI WEST</td>\n",
       "      <td>352227</td>\n",
       "      <td>332538</td>\n",
       "      <td>684765</td>\n",
       "      <td>212295</td>\n",
       "      <td>261.78</td>\n",
       "      <td>2615.81</td>\n",
       "      <td>NaN</td>\n",
       "      <td>NaN</td>\n",
       "      <td>NaN</td>\n",
       "    </tr>\n",
       "    <tr>\n",
       "      <th>2</th>\n",
       "      <td>DAGORETTI</td>\n",
       "      <td>166391</td>\n",
       "      <td>163186</td>\n",
       "      <td>329577</td>\n",
       "      <td>103818</td>\n",
       "      <td>38.62</td>\n",
       "      <td>8533.89</td>\n",
       "      <td>NaN</td>\n",
       "      <td>NaN</td>\n",
       "      <td>NaN</td>\n",
       "    </tr>\n",
       "    <tr>\n",
       "      <th>3</th>\n",
       "      <td>KAWANGWARE</td>\n",
       "      <td>59430</td>\n",
       "      <td>53856</td>\n",
       "      <td>113286</td>\n",
       "      <td>38249</td>\n",
       "      <td>3.89</td>\n",
       "      <td>29091.70</td>\n",
       "      <td>NaN</td>\n",
       "      <td>NaN</td>\n",
       "      <td>NaN</td>\n",
       "    </tr>\n",
       "    <tr>\n",
       "      <th>4</th>\n",
       "      <td>GATINA</td>\n",
       "      <td>24747</td>\n",
       "      <td>21125</td>\n",
       "      <td>45872</td>\n",
       "      <td>15987</td>\n",
       "      <td>1.51</td>\n",
       "      <td>30411.03</td>\n",
       "      <td>NaN</td>\n",
       "      <td>NaN</td>\n",
       "      <td>NaN</td>\n",
       "    </tr>\n",
       "    <tr>\n",
       "      <th>5</th>\n",
       "      <td>KAWANGWARE</td>\n",
       "      <td>34683</td>\n",
       "      <td>32731</td>\n",
       "      <td>67414</td>\n",
       "      <td>22262</td>\n",
       "      <td>2.39</td>\n",
       "      <td>28257.53</td>\n",
       "      <td>NaN</td>\n",
       "      <td>NaN</td>\n",
       "      <td>NaN</td>\n",
       "    </tr>\n",
       "    <tr>\n",
       "      <th>6</th>\n",
       "      <td>KENYATTA /GOLF COURSE</td>\n",
       "      <td>16710</td>\n",
       "      <td>18645</td>\n",
       "      <td>35355</td>\n",
       "      <td>9401</td>\n",
       "      <td>9.52</td>\n",
       "      <td>3714.27</td>\n",
       "      <td>NaN</td>\n",
       "      <td>NaN</td>\n",
       "      <td>NaN</td>\n",
       "    </tr>\n",
       "    <tr>\n",
       "      <th>7</th>\n",
       "      <td>KENYATTA /GOLF COURSE</td>\n",
       "      <td>10876</td>\n",
       "      <td>11940</td>\n",
       "      <td>22816</td>\n",
       "      <td>5987</td>\n",
       "      <td>5.10</td>\n",
       "      <td>4474.69</td>\n",
       "      <td>NaN</td>\n",
       "      <td>NaN</td>\n",
       "      <td>NaN</td>\n",
       "    </tr>\n",
       "    <tr>\n",
       "      <th>8</th>\n",
       "      <td>WOODLEY</td>\n",
       "      <td>5834</td>\n",
       "      <td>6705</td>\n",
       "      <td>12539</td>\n",
       "      <td>3414</td>\n",
       "      <td>4.42</td>\n",
       "      <td>2837.01</td>\n",
       "      <td>NaN</td>\n",
       "      <td>NaN</td>\n",
       "      <td>NaN</td>\n",
       "    </tr>\n",
       "    <tr>\n",
       "      <th>9</th>\n",
       "      <td>MUTUINI</td>\n",
       "      <td>9015</td>\n",
       "      <td>8958</td>\n",
       "      <td>17973</td>\n",
       "      <td>5454</td>\n",
       "      <td>5.02</td>\n",
       "      <td>3582.92</td>\n",
       "      <td>NaN</td>\n",
       "      <td>NaN</td>\n",
       "      <td>NaN</td>\n",
       "    </tr>\n",
       "  </tbody>\n",
       "</table>\n",
       "</div>"
      ],
      "text/plain": [
       "              Unnamed: 0     Male   Female    Total  Households   \n",
       "0                NAIROBI  1605230  1533139  3138369      985016  \\\n",
       "1           NAIROBI WEST   352227   332538   684765      212295   \n",
       "2              DAGORETTI   166391   163186   329577      103818   \n",
       "3             KAWANGWARE    59430    53856   113286       38249   \n",
       "4                 GATINA    24747    21125    45872       15987   \n",
       "5             KAWANGWARE    34683    32731    67414       22262   \n",
       "6  KENYATTA /GOLF COURSE    16710    18645    35355        9401   \n",
       "7  KENYATTA /GOLF COURSE    10876    11940    22816        5987   \n",
       "8                WOODLEY     5834     6705    12539        3414   \n",
       "9                MUTUINI     9015     8958    17973        5454   \n",
       "\n",
       "   Area in Sq. Km.   Density Unnamed: 7 Unnamed: 8  Unnamed: 9  \n",
       "0           695.10   4514.96        NaN        NaN         NaN  \n",
       "1           261.78   2615.81        NaN        NaN         NaN  \n",
       "2            38.62   8533.89        NaN        NaN         NaN  \n",
       "3             3.89  29091.70        NaN        NaN         NaN  \n",
       "4             1.51  30411.03        NaN        NaN         NaN  \n",
       "5             2.39  28257.53        NaN        NaN         NaN  \n",
       "6             9.52   3714.27        NaN        NaN         NaN  \n",
       "7             5.10   4474.69        NaN        NaN         NaN  \n",
       "8             4.42   2837.01        NaN        NaN         NaN  \n",
       "9             5.02   3582.92        NaN        NaN         NaN  "
      ]
     },
     "execution_count": 11,
     "metadata": {},
     "output_type": "execute_result"
    }
   ],
   "source": [
    "data.head(10)"
   ]
  },
  {
   "cell_type": "code",
   "execution_count": 12,
   "metadata": {},
   "outputs": [
    {
     "data": {
      "text/plain": [
       "(10681, 10)"
      ]
     },
     "execution_count": 12,
     "metadata": {},
     "output_type": "execute_result"
    }
   ],
   "source": [
    "data.shape"
   ]
  },
  {
   "cell_type": "code",
   "execution_count": 13,
   "metadata": {},
   "outputs": [
    {
     "name": "stdout",
     "output_type": "stream",
     "text": [
      "Row count of our data is 10681\n"
     ]
    }
   ],
   "source": [
    "print(\"Row count of our data is {}\".format(data.shape[0]))"
   ]
  },
  {
   "cell_type": "code",
   "execution_count": 14,
   "metadata": {},
   "outputs": [
    {
     "data": {
      "text/plain": [
       "Index(['Unnamed: 0', 'Male', 'Female', 'Total', 'Households',\n",
       "       'Area in Sq. Km.', 'Density', 'Unnamed: 7', 'Unnamed: 8', 'Unnamed: 9'],\n",
       "      dtype='object')"
      ]
     },
     "execution_count": 14,
     "metadata": {},
     "output_type": "execute_result"
    }
   ],
   "source": [
    "data.columns"
   ]
  },
  {
   "cell_type": "code",
   "execution_count": 15,
   "metadata": {},
   "outputs": [
    {
     "data": {
      "text/plain": [
       "Unnamed: 0             0\n",
       "Male                   0\n",
       "Female                 0\n",
       "Total                  0\n",
       "Households             0\n",
       "Area in Sq. Km.        0\n",
       "Density                0\n",
       "Unnamed: 7         10678\n",
       "Unnamed: 8         10679\n",
       "Unnamed: 9         10679\n",
       "dtype: int64"
      ]
     },
     "execution_count": 15,
     "metadata": {},
     "output_type": "execute_result"
    }
   ],
   "source": [
    "data.isnull().sum()"
   ]
  },
  {
   "cell_type": "code",
   "execution_count": 16,
   "metadata": {},
   "outputs": [
    {
     "name": "stdout",
     "output_type": "stream",
     "text": [
      "Requirement already satisfied: seaborn in c:\\python310\\lib\\site-packages (0.13.2)\n",
      "Requirement already satisfied: numpy!=1.24.0,>=1.20 in c:\\python310\\lib\\site-packages (from seaborn) (1.24.3)\n",
      "Requirement already satisfied: pandas>=1.2 in c:\\python310\\lib\\site-packages (from seaborn) (2.0.1)\n",
      "Requirement already satisfied: matplotlib!=3.6.1,>=3.4 in c:\\python310\\lib\\site-packages (from seaborn) (3.7.1)\n",
      "Requirement already satisfied: contourpy>=1.0.1 in c:\\python310\\lib\\site-packages (from matplotlib!=3.6.1,>=3.4->seaborn) (1.0.7)\n",
      "Requirement already satisfied: cycler>=0.10 in c:\\python310\\lib\\site-packages (from matplotlib!=3.6.1,>=3.4->seaborn) (0.11.0)\n",
      "Requirement already satisfied: fonttools>=4.22.0 in c:\\python310\\lib\\site-packages (from matplotlib!=3.6.1,>=3.4->seaborn) (4.39.4)\n",
      "Requirement already satisfied: kiwisolver>=1.0.1 in c:\\python310\\lib\\site-packages (from matplotlib!=3.6.1,>=3.4->seaborn) (1.4.4)\n",
      "Requirement already satisfied: packaging>=20.0 in c:\\python310\\lib\\site-packages (from matplotlib!=3.6.1,>=3.4->seaborn) (23.1)\n",
      "Requirement already satisfied: pillow>=6.2.0 in c:\\python310\\lib\\site-packages (from matplotlib!=3.6.1,>=3.4->seaborn) (9.3.0)\n",
      "Requirement already satisfied: pyparsing>=2.3.1 in c:\\python310\\lib\\site-packages (from matplotlib!=3.6.1,>=3.4->seaborn) (3.0.9)\n",
      "Requirement already satisfied: python-dateutil>=2.7 in c:\\python310\\lib\\site-packages (from matplotlib!=3.6.1,>=3.4->seaborn) (2.8.2)\n",
      "Requirement already satisfied: pytz>=2020.1 in c:\\python310\\lib\\site-packages (from pandas>=1.2->seaborn) (2023.3)\n",
      "Requirement already satisfied: tzdata>=2022.1 in c:\\python310\\lib\\site-packages (from pandas>=1.2->seaborn) (2023.3)\n",
      "Requirement already satisfied: six>=1.5 in c:\\python310\\lib\\site-packages (from python-dateutil>=2.7->matplotlib!=3.6.1,>=3.4->seaborn) (1.16.0)\n",
      "Note: you may need to restart the kernel to use updated packages.\n"
     ]
    }
   ],
   "source": [
    "%pip install seaborn"
   ]
  },
  {
   "cell_type": "code",
   "execution_count": 17,
   "metadata": {},
   "outputs": [
    {
     "name": "stderr",
     "output_type": "stream",
     "text": [
      "Matplotlib is building the font cache; this may take a moment.\n"
     ]
    }
   ],
   "source": [
    "import matplotlib.pyplot as plt\n",
    "import seaborn as sns"
   ]
  },
  {
   "cell_type": "code",
   "execution_count": 19,
   "metadata": {},
   "outputs": [
    {
     "data": {
      "text/plain": [
       "Female\n",
       "14416     1\n",
       "9501      1\n",
       "17960     1\n",
       "3048      1\n",
       "3685      1\n",
       "         ..\n",
       "2357      8\n",
       "864       9\n",
       "1771      9\n",
       "1581     11\n",
       "0        49\n",
       "Name: count, Length: 6067, dtype: int64"
      ]
     },
     "execution_count": 19,
     "metadata": {},
     "output_type": "execute_result"
    }
   ],
   "source": [
    "data[\"Female\"].value_counts().sort_values(ascending=True)"
   ]
  },
  {
   "cell_type": "code",
   "execution_count": 21,
   "metadata": {},
   "outputs": [
    {
     "data": {
      "image/png": "[encoded data removed]",
      "text/plain": [
       "<Figure size 640x480 with 1 Axes>"
      ]
     },
     "metadata": {},
     "output_type": "display_data"
    }
   ],
   "source": [
    "sns.barplot( x = \"Female\", data=data)\n",
    "plt.show()"
   ]
  },
  {
   "cell_type": "code",
   "execution_count": null,
   "metadata": {},
   "outputs": [],
   "source": []
  }
 ],
 "metadata": {
  "kernelspec": {
   "display_name": "Python 3",
   "language": "python",
   "name": "python3"
  },
  "language_info": {
   "codemirror_mode": {
    "name": "ipython",
    "version": 3
   },
   "file_extension": ".py",
   "mimetype": "text/x-python",
   "name": "python",
   "nbconvert_exporter": "python",
   "pygments_lexer": "ipython3",
   "version": "3.10.11"
  }
 },
 "nbformat": 4,
 "nbformat_minor": 2
}
